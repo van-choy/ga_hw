{
 "cells": [
  {
   "cell_type": "code",
   "execution_count": 52,
   "metadata": {
    "collapsed": false
   },
   "outputs": [
    {
     "name": "stdout",
     "output_type": "stream",
     "text": [
      "ERROR! Session/line number was not unique in database. History logging moved to new session 36\n"
     ]
    },
    {
     "data": {
      "image/png": "[encoded data removed]",
      "text/plain": [
       "<matplotlib.figure.Figure at 0x2594d7390>"
      ]
     },
     "metadata": {},
     "output_type": "display_data"
    }
   ],
   "source": [
    "import pandas as pd"
   ]
  },
  {
   "cell_type": "code",
   "execution_count": 53,
   "metadata": {
    "collapsed": true
   },
   "outputs": [],
   "source": [
    "yelp = pd.read_csv(\"yelp.csv\")"
   ]
  },
  {
   "cell_type": "code",
   "execution_count": 61,
   "metadata": {
    "collapsed": true
   },
   "outputs": [],
   "source": [
    "plt.rcParams['figure.figsize'] = (8, 6)\n",
    "plt.rcParams['font.size'] = 14\n",
    "sns.set(style=\"white\", context=\"talk\")"
   ]
  },
  {
   "cell_type": "code",
   "execution_count": 54,
   "metadata": {
    "collapsed": false
   },
   "outputs": [
    {
     "data": {
      "text/html": [
       "<div>\n",
       "<table border=\"1\" class=\"dataframe\">\n",
       "  <thead>\n",
       "    <tr style=\"text-align: right;\">\n",
       "      <th></th>\n",
       "      <th>business_id</th>\n",
       "      <th>date</th>\n",
       "      <th>review_id</th>\n",
       "      <th>stars</th>\n",
       "      <th>text</th>\n",
       "      <th>type</th>\n",
       "      <th>user_id</th>\n",
       "      <th>cool</th>\n",
       "      <th>useful</th>\n",
       "      <th>funny</th>\n",
       "    </tr>\n",
       "  </thead>\n",
       "  <tbody>\n",
       "    <tr>\n",
       "      <th>0</th>\n",
       "      <td>9yKzy9PApeiPPOUJEtnvkg</td>\n",
       "      <td>2011-01-26</td>\n",
       "      <td>fWKvX83p0-ka4JS3dc6E5A</td>\n",
       "      <td>5</td>\n",
       "      <td>My wife took me here on my birthday for breakf...</td>\n",
       "      <td>review</td>\n",
       "      <td>rLtl8ZkDX5vH5nAx9C3q5Q</td>\n",
       "      <td>2</td>\n",
       "      <td>5</td>\n",
       "      <td>0</td>\n",
       "    </tr>\n",
       "    <tr>\n",
       "      <th>1</th>\n",
       "      <td>ZRJwVLyzEJq1VAihDhYiow</td>\n",
       "      <td>2011-07-27</td>\n",
       "      <td>IjZ33sJrzXqU-0X6U8NwyA</td>\n",
       "      <td>5</td>\n",
       "      <td>I have no idea why some people give bad review...</td>\n",
       "      <td>review</td>\n",
       "      <td>0a2KyEL0d3Yb1V6aivbIuQ</td>\n",
       "      <td>0</td>\n",
       "      <td>0</td>\n",
       "      <td>0</td>\n",
       "    </tr>\n",
       "    <tr>\n",
       "      <th>2</th>\n",
       "      <td>6oRAC4uyJCsJl1X0WZpVSA</td>\n",
       "      <td>2012-06-14</td>\n",
       "      <td>IESLBzqUCLdSzSqm0eCSxQ</td>\n",
       "      <td>4</td>\n",
       "      <td>love the gyro plate. Rice is so good and I als...</td>\n",
       "      <td>review</td>\n",
       "      <td>0hT2KtfLiobPvh6cDC8JQg</td>\n",
       "      <td>0</td>\n",
       "      <td>1</td>\n",
       "      <td>0</td>\n",
       "    </tr>\n",
       "    <tr>\n",
       "      <th>3</th>\n",
       "      <td>_1QQZuf4zZOyFCvXc0o6Vg</td>\n",
       "      <td>2010-05-27</td>\n",
       "      <td>G-WvGaISbqqaMHlNnByodA</td>\n",
       "      <td>5</td>\n",
       "      <td>Rosie, Dakota, and I LOVE Chaparral Dog Park!!...</td>\n",
       "      <td>review</td>\n",
       "      <td>uZetl9T0NcROGOyFfughhg</td>\n",
       "      <td>1</td>\n",
       "      <td>2</td>\n",
       "      <td>0</td>\n",
       "    </tr>\n",
       "    <tr>\n",
       "      <th>4</th>\n",
       "      <td>6ozycU1RpktNG2-1BroVtw</td>\n",
       "      <td>2012-01-05</td>\n",
       "      <td>1uJFq2r5QfJG_6ExMRCaGw</td>\n",
       "      <td>5</td>\n",
       "      <td>General Manager Scott Petello is a good egg!!!...</td>\n",
       "      <td>review</td>\n",
       "      <td>vYmM4KTsC8ZfQBg-j5MWkw</td>\n",
       "      <td>0</td>\n",
       "      <td>0</td>\n",
       "      <td>0</td>\n",
       "    </tr>\n",
       "    <tr>\n",
       "      <th>5</th>\n",
       "      <td>-yxfBYGB6SEqszmxJxd97A</td>\n",
       "      <td>2007-12-13</td>\n",
       "      <td>m2CKSsepBCoRYWxiRUsxAg</td>\n",
       "      <td>4</td>\n",
       "      <td>Quiessence is, simply put, beautiful.  Full wi...</td>\n",
       "      <td>review</td>\n",
       "      <td>sqYN3lNgvPbPCTRsMFu27g</td>\n",
       "      <td>4</td>\n",
       "      <td>3</td>\n",
       "      <td>1</td>\n",
       "    </tr>\n",
       "    <tr>\n",
       "      <th>6</th>\n",
       "      <td>zp713qNhx8d9KCJJnrw1xA</td>\n",
       "      <td>2010-02-12</td>\n",
       "      <td>riFQ3vxNpP4rWLk_CSri2A</td>\n",
       "      <td>5</td>\n",
       "      <td>Drop what you're doing and drive here. After I...</td>\n",
       "      <td>review</td>\n",
       "      <td>wFweIWhv2fREZV_dYkz_1g</td>\n",
       "      <td>7</td>\n",
       "      <td>7</td>\n",
       "      <td>4</td>\n",
       "    </tr>\n",
       "    <tr>\n",
       "      <th>7</th>\n",
       "      <td>hW0Ne_HTHEAgGF1rAdmR-g</td>\n",
       "      <td>2012-07-12</td>\n",
       "      <td>JL7GXJ9u4YMx7Rzs05NfiQ</td>\n",
       "      <td>4</td>\n",
       "      <td>Luckily, I didn't have to travel far to make m...</td>\n",
       "      <td>review</td>\n",
       "      <td>1ieuYcKS7zeAv_U15AB13A</td>\n",
       "      <td>0</td>\n",
       "      <td>1</td>\n",
       "      <td>0</td>\n",
       "    </tr>\n",
       "    <tr>\n",
       "      <th>8</th>\n",
       "      <td>wNUea3IXZWD63bbOQaOH-g</td>\n",
       "      <td>2012-08-17</td>\n",
       "      <td>XtnfnYmnJYi71yIuGsXIUA</td>\n",
       "      <td>4</td>\n",
       "      <td>Definitely come for Happy hour! Prices are ama...</td>\n",
       "      <td>review</td>\n",
       "      <td>Vh_DlizgGhSqQh4qfZ2h6A</td>\n",
       "      <td>0</td>\n",
       "      <td>0</td>\n",
       "      <td>0</td>\n",
       "    </tr>\n",
       "    <tr>\n",
       "      <th>9</th>\n",
       "      <td>nMHhuYan8e3cONo3PornJA</td>\n",
       "      <td>2010-08-11</td>\n",
       "      <td>jJAIXA46pU1swYyRCdfXtQ</td>\n",
       "      <td>5</td>\n",
       "      <td>Nobuo shows his unique talents with everything...</td>\n",
       "      <td>review</td>\n",
       "      <td>sUNkXg8-KFtCMQDV6zRzQg</td>\n",
       "      <td>0</td>\n",
       "      <td>1</td>\n",
       "      <td>0</td>\n",
       "    </tr>\n",
       "    <tr>\n",
       "      <th>10</th>\n",
       "      <td>AsSCv0q_BWqIe3mX2JqsOQ</td>\n",
       "      <td>2010-06-16</td>\n",
       "      <td>E11jzpKz9Kw5K7fuARWfRw</td>\n",
       "      <td>5</td>\n",
       "      <td>The oldish man who owns the store is as sweet ...</td>\n",
       "      <td>review</td>\n",
       "      <td>-OMlS6yWkYjVldNhC31wYg</td>\n",
       "      <td>1</td>\n",
       "      <td>3</td>\n",
       "      <td>1</td>\n",
       "    </tr>\n",
       "    <tr>\n",
       "      <th>11</th>\n",
       "      <td>e9nN4XxjdHj4qtKCOPq_vg</td>\n",
       "      <td>2011-10-21</td>\n",
       "      <td>3rPt0LxF7rgmEUrznoH22w</td>\n",
       "      <td>5</td>\n",
       "      <td>Wonderful Vietnamese sandwich shoppe. Their ba...</td>\n",
       "      <td>review</td>\n",
       "      <td>C1rHp3dmepNea7XiouwB6Q</td>\n",
       "      <td>1</td>\n",
       "      <td>1</td>\n",
       "      <td>0</td>\n",
       "    </tr>\n",
       "    <tr>\n",
       "      <th>12</th>\n",
       "      <td>h53YuCiIDfEFSJCQpk8v1g</td>\n",
       "      <td>2010-01-11</td>\n",
       "      <td>cGnKNX3I9rthE0-TH24-qA</td>\n",
       "      <td>5</td>\n",
       "      <td>They have a limited time thing going on right ...</td>\n",
       "      <td>review</td>\n",
       "      <td>UPtysDF6cUDUxq2KY-6Dcg</td>\n",
       "      <td>1</td>\n",
       "      <td>2</td>\n",
       "      <td>0</td>\n",
       "    </tr>\n",
       "    <tr>\n",
       "      <th>13</th>\n",
       "      <td>WGNIYMeXPyoWav1APUq7jA</td>\n",
       "      <td>2011-12-23</td>\n",
       "      <td>FvEEw1_OsrYdvwLV5Hrliw</td>\n",
       "      <td>4</td>\n",
       "      <td>Good tattoo shop. Clean space, multiple artist...</td>\n",
       "      <td>review</td>\n",
       "      <td>Xm8HXE1JHqscXe5BKf0GFQ</td>\n",
       "      <td>1</td>\n",
       "      <td>2</td>\n",
       "      <td>0</td>\n",
       "    </tr>\n",
       "    <tr>\n",
       "      <th>14</th>\n",
       "      <td>yc5AH9H71xJidA_J2mChLA</td>\n",
       "      <td>2010-05-20</td>\n",
       "      <td>pfUwBKYYmUXeiwrhDluQcw</td>\n",
       "      <td>4</td>\n",
       "      <td>I'm 2 weeks new to Phoenix. I looked up Irish ...</td>\n",
       "      <td>review</td>\n",
       "      <td>JOG-4G4e8ae3lx_szHtR8g</td>\n",
       "      <td>1</td>\n",
       "      <td>1</td>\n",
       "      <td>0</td>\n",
       "    </tr>\n",
       "    <tr>\n",
       "      <th>15</th>\n",
       "      <td>Vb9FPCEL6Ly24PNxLBaAFw</td>\n",
       "      <td>2011-03-20</td>\n",
       "      <td>HvqmdqWcerVWO3Gs6zbrOw</td>\n",
       "      <td>2</td>\n",
       "      <td>Was it worth the 21$ for a salad and small piz...</td>\n",
       "      <td>review</td>\n",
       "      <td>ylWOj2y7TV2e3yYeWhu2QA</td>\n",
       "      <td>0</td>\n",
       "      <td>2</td>\n",
       "      <td>0</td>\n",
       "    </tr>\n",
       "    <tr>\n",
       "      <th>16</th>\n",
       "      <td>supigcPNO9IKo6olaTNV-g</td>\n",
       "      <td>2008-10-12</td>\n",
       "      <td>HXP_0Ul-FCmA4f-k9CqvaQ</td>\n",
       "      <td>3</td>\n",
       "      <td>We went here on a Saturday afternoon and this ...</td>\n",
       "      <td>review</td>\n",
       "      <td>SBbftLzfYYKItOMFwOTIJg</td>\n",
       "      <td>3</td>\n",
       "      <td>4</td>\n",
       "      <td>2</td>\n",
       "    </tr>\n",
       "    <tr>\n",
       "      <th>17</th>\n",
       "      <td>O510Re68mOy9dU490JTKCg</td>\n",
       "      <td>2010-05-03</td>\n",
       "      <td>j4SIzrIy0WrmW4yr4--Khg</td>\n",
       "      <td>5</td>\n",
       "      <td>okay this is the best place EVER! i grew up sh...</td>\n",
       "      <td>review</td>\n",
       "      <td>u1KWcbPMvXFEEYkZZ0Yktg</td>\n",
       "      <td>0</td>\n",
       "      <td>0</td>\n",
       "      <td>0</td>\n",
       "    </tr>\n",
       "    <tr>\n",
       "      <th>18</th>\n",
       "      <td>b5cEoKR8iQliq-yT2_O0LQ</td>\n",
       "      <td>2009-03-06</td>\n",
       "      <td>v0cTd3PNpYCkTyGKSpOfGA</td>\n",
       "      <td>3</td>\n",
       "      <td>I met a friend for lunch yesterday. \\n\\nLoved ...</td>\n",
       "      <td>review</td>\n",
       "      <td>UsULgP4bKA8RMzs8dQzcsA</td>\n",
       "      <td>5</td>\n",
       "      <td>6</td>\n",
       "      <td>4</td>\n",
       "    </tr>\n",
       "    <tr>\n",
       "      <th>19</th>\n",
       "      <td>4JzzbSbK9wmlOBJZWYfuCg</td>\n",
       "      <td>2011-11-17</td>\n",
       "      <td>a0lCu-j2Sk_kHQsZi_eNgw</td>\n",
       "      <td>4</td>\n",
       "      <td>They've gotten better and better for me in the...</td>\n",
       "      <td>review</td>\n",
       "      <td>nDBly08j5URmrHQ2JCbyiw</td>\n",
       "      <td>1</td>\n",
       "      <td>1</td>\n",
       "      <td>1</td>\n",
       "    </tr>\n",
       "    <tr>\n",
       "      <th>20</th>\n",
       "      <td>8FNO4D3eozpIjj0k3q5Zbg</td>\n",
       "      <td>2008-10-08</td>\n",
       "      <td>MuqugTuR5DdIPcZ2IVP3aQ</td>\n",
       "      <td>3</td>\n",
       "      <td>DVAP....\\n\\nYou have to go at least once in yo...</td>\n",
       "      <td>review</td>\n",
       "      <td>C6IOtaaYdLIT5fWd7ZYIuA</td>\n",
       "      <td>2</td>\n",
       "      <td>4</td>\n",
       "      <td>1</td>\n",
       "    </tr>\n",
       "    <tr>\n",
       "      <th>21</th>\n",
       "      <td>tdcjXyFLMKAsvRhURNOkCg</td>\n",
       "      <td>2011-06-28</td>\n",
       "      <td>LmuKVFh03Uz318VKnUWrxA</td>\n",
       "      <td>5</td>\n",
       "      <td>This place shouldn't even be reviewed - becaus...</td>\n",
       "      <td>review</td>\n",
       "      <td>YN3ZLOdg8kpnfbVcIhuEZA</td>\n",
       "      <td>1</td>\n",
       "      <td>1</td>\n",
       "      <td>2</td>\n",
       "    </tr>\n",
       "    <tr>\n",
       "      <th>22</th>\n",
       "      <td>eFA9dqXT5EA_TrMgbo03QQ</td>\n",
       "      <td>2011-07-13</td>\n",
       "      <td>CQYc8hgKxV4enApDkx0IhA</td>\n",
       "      <td>5</td>\n",
       "      <td>first time my friend and I went there... it wa...</td>\n",
       "      <td>review</td>\n",
       "      <td>6lg55RIP23VhjYEBXJ8Njw</td>\n",
       "      <td>0</td>\n",
       "      <td>0</td>\n",
       "      <td>0</td>\n",
       "    </tr>\n",
       "    <tr>\n",
       "      <th>23</th>\n",
       "      <td>IJ0o6b8bJFAbG6MjGfBebQ</td>\n",
       "      <td>2010-09-05</td>\n",
       "      <td>Dx9sfFU6Zn0GYOckijom-g</td>\n",
       "      <td>1</td>\n",
       "      <td>U can go there n check the car out. If u wanna...</td>\n",
       "      <td>review</td>\n",
       "      <td>zRlQEDYd_HKp0VS3hnAffA</td>\n",
       "      <td>0</td>\n",
       "      <td>1</td>\n",
       "      <td>1</td>\n",
       "    </tr>\n",
       "    <tr>\n",
       "      <th>24</th>\n",
       "      <td>JhupPnWfNlMJivnWB5druA</td>\n",
       "      <td>2011-05-22</td>\n",
       "      <td>cFtQnKzn2VDpBedy_TxlvA</td>\n",
       "      <td>5</td>\n",
       "      <td>I love this place! I have been coming here for...</td>\n",
       "      <td>review</td>\n",
       "      <td>13xj6FSvYO0rZVRv5XZp4w</td>\n",
       "      <td>0</td>\n",
       "      <td>1</td>\n",
       "      <td>0</td>\n",
       "    </tr>\n",
       "    <tr>\n",
       "      <th>25</th>\n",
       "      <td>wzP2yNpV5p04nh0injjymA</td>\n",
       "      <td>2010-05-26</td>\n",
       "      <td>ChBeixVZerfFkeO0McdlbA</td>\n",
       "      <td>4</td>\n",
       "      <td>This place is great.  A nice little ole' fashi...</td>\n",
       "      <td>review</td>\n",
       "      <td>rLtl8ZkDX5vH5nAx9C3q5Q</td>\n",
       "      <td>0</td>\n",
       "      <td>0</td>\n",
       "      <td>0</td>\n",
       "    </tr>\n",
       "    <tr>\n",
       "      <th>26</th>\n",
       "      <td>qjmCVYkwP-HDa35jwYucbQ</td>\n",
       "      <td>2013-01-03</td>\n",
       "      <td>kZ4TzrVX6qeF0OvrVTGVEw</td>\n",
       "      <td>5</td>\n",
       "      <td>I love love LOVE this place. My boss (who is i...</td>\n",
       "      <td>review</td>\n",
       "      <td>fpItLlgimq0nRltWOkuJJw</td>\n",
       "      <td>0</td>\n",
       "      <td>0</td>\n",
       "      <td>0</td>\n",
       "    </tr>\n",
       "    <tr>\n",
       "      <th>27</th>\n",
       "      <td>wct7rZKyZqZftzmAU-vhWQ</td>\n",
       "      <td>2008-03-21</td>\n",
       "      <td>B5h25WK28rJjx4KHm4gr7g</td>\n",
       "      <td>4</td>\n",
       "      <td>Not that my review will mean much given the mo...</td>\n",
       "      <td>review</td>\n",
       "      <td>RRTraCQw77EU4yZh0BBTag</td>\n",
       "      <td>2</td>\n",
       "      <td>4</td>\n",
       "      <td>1</td>\n",
       "    </tr>\n",
       "    <tr>\n",
       "      <th>28</th>\n",
       "      <td>vz2zQQSjy-NnnKLZzjjoxA</td>\n",
       "      <td>2011-03-30</td>\n",
       "      <td>Y_ERKao0J5WsRiCtlKSNSA</td>\n",
       "      <td>4</td>\n",
       "      <td>Came here for breakfast yesterday, it had been...</td>\n",
       "      <td>review</td>\n",
       "      <td>EP3cGJvYiuOwumerwADplg</td>\n",
       "      <td>1</td>\n",
       "      <td>1</td>\n",
       "      <td>1</td>\n",
       "    </tr>\n",
       "    <tr>\n",
       "      <th>29</th>\n",
       "      <td>i213sY5rhkfCO8cD-FPr1A</td>\n",
       "      <td>2012-07-12</td>\n",
       "      <td>hre97jjSwon4bn1muHKOJg</td>\n",
       "      <td>4</td>\n",
       "      <td>Always reliably good.  Great beer selection as...</td>\n",
       "      <td>review</td>\n",
       "      <td>kpbhy1zPewGDmdNfNqQp-g</td>\n",
       "      <td>0</td>\n",
       "      <td>1</td>\n",
       "      <td>0</td>\n",
       "    </tr>\n",
       "    <tr>\n",
       "      <th>30</th>\n",
       "      <td>V1nEpIRmEa1768oj_tuxeQ</td>\n",
       "      <td>2011-05-09</td>\n",
       "      <td>dtpJXC5p_sdWDLSobluJ3Q</td>\n",
       "      <td>5</td>\n",
       "      <td>Disclaimer: Like many of you, I am a sucker fo...</td>\n",
       "      <td>review</td>\n",
       "      <td>bCKjygWJZOQHCOzootbvow</td>\n",
       "      <td>0</td>\n",
       "      <td>2</td>\n",
       "      <td>0</td>\n",
       "    </tr>\n",
       "    <tr>\n",
       "      <th>31</th>\n",
       "      <td>vvA3fbps4F9nGlAEYKk_sA</td>\n",
       "      <td>2012-05-04</td>\n",
       "      <td>S9OVpXat8k5YwWCn6FAgXg</td>\n",
       "      <td>1</td>\n",
       "      <td>Disgusting!  Had a Groupon so my daughter and ...</td>\n",
       "      <td>review</td>\n",
       "      <td>8AMn6644NmBf96xGO3w6OA</td>\n",
       "      <td>0</td>\n",
       "      <td>1</td>\n",
       "      <td>0</td>\n",
       "    </tr>\n",
       "    <tr>\n",
       "      <th>32</th>\n",
       "      <td>rxQ2PIjhAx6dgAqUalf99Q</td>\n",
       "      <td>2012-09-09</td>\n",
       "      <td>-v-shjbxoj7hpU62yn6vag</td>\n",
       "      <td>5</td>\n",
       "      <td>Never having dealt with a Discount Tire in Pho...</td>\n",
       "      <td>review</td>\n",
       "      <td>HLbhD2OyiMCUDRR4c1iXaw</td>\n",
       "      <td>0</td>\n",
       "      <td>0</td>\n",
       "      <td>0</td>\n",
       "    </tr>\n",
       "    <tr>\n",
       "      <th>33</th>\n",
       "      <td>qjmCVYkwP-HDa35jwYucbQ</td>\n",
       "      <td>2010-03-28</td>\n",
       "      <td>2VTwjhOX3UUvgOGbxe4xfA</td>\n",
       "      <td>4</td>\n",
       "      <td>I went here again when I got back to Phoenix a...</td>\n",
       "      <td>review</td>\n",
       "      <td>3iuZFgxUFKLxOplkDrFmyg</td>\n",
       "      <td>0</td>\n",
       "      <td>0</td>\n",
       "      <td>0</td>\n",
       "    </tr>\n",
       "    <tr>\n",
       "      <th>34</th>\n",
       "      <td>3oLy0rlzRI_xiqfQHqC4_g</td>\n",
       "      <td>2011-03-27</td>\n",
       "      <td>Bk7F8IyBuOHVp6w3BAKVow</td>\n",
       "      <td>3</td>\n",
       "      <td>There's two ways to look at this place. One is...</td>\n",
       "      <td>review</td>\n",
       "      <td>1guJDgUfTiDdbgKqBhsZFQ</td>\n",
       "      <td>1</td>\n",
       "      <td>3</td>\n",
       "      <td>1</td>\n",
       "    </tr>\n",
       "    <tr>\n",
       "      <th>35</th>\n",
       "      <td>o1GIYYZJjM6nM03fQs_uEQ</td>\n",
       "      <td>2011-11-30</td>\n",
       "      <td>ApKbwpYJdnhhgP4NbjQw2Q</td>\n",
       "      <td>1</td>\n",
       "      <td>I've eaten here many times, but none as bad as...</td>\n",
       "      <td>review</td>\n",
       "      <td>iwUN95LIaEr75TZE_JC6bg</td>\n",
       "      <td>0</td>\n",
       "      <td>4</td>\n",
       "      <td>3</td>\n",
       "    </tr>\n",
       "    <tr>\n",
       "      <th>36</th>\n",
       "      <td>Pr9rQKypHgC_J1AfufxzIw</td>\n",
       "      <td>2008-12-28</td>\n",
       "      <td>vUuFuf4LYxfqbZH3lYxJfw</td>\n",
       "      <td>4</td>\n",
       "      <td>They must have renovated this place in the las...</td>\n",
       "      <td>review</td>\n",
       "      <td>iFa0SLpNeLbx6aux65mNbQ</td>\n",
       "      <td>0</td>\n",
       "      <td>1</td>\n",
       "      <td>0</td>\n",
       "    </tr>\n",
       "    <tr>\n",
       "      <th>37</th>\n",
       "      <td>AGar9KVq_W7YcF76avbDTw</td>\n",
       "      <td>2012-10-16</td>\n",
       "      <td>gNm48xplqt42p-NvCkzUBg</td>\n",
       "      <td>4</td>\n",
       "      <td>Very clean and well thought out floor plans, n...</td>\n",
       "      <td>review</td>\n",
       "      <td>370JyOQfFcPSB9_jk641gA</td>\n",
       "      <td>0</td>\n",
       "      <td>0</td>\n",
       "      <td>0</td>\n",
       "    </tr>\n",
       "    <tr>\n",
       "      <th>38</th>\n",
       "      <td>-kVXDEqGHOWKxQ3EhvFgVA</td>\n",
       "      <td>2011-01-02</td>\n",
       "      <td>5V9lfjjlY7tkXgkcDUWYyg</td>\n",
       "      <td>4</td>\n",
       "      <td>This Mexican food is very simple, slightly bla...</td>\n",
       "      <td>review</td>\n",
       "      <td>Ja8SAyDdf1aY-E7vVixJiw</td>\n",
       "      <td>0</td>\n",
       "      <td>0</td>\n",
       "      <td>0</td>\n",
       "    </tr>\n",
       "    <tr>\n",
       "      <th>39</th>\n",
       "      <td>qyNtVViurIcChc35mfYIEw</td>\n",
       "      <td>2008-07-09</td>\n",
       "      <td>1fRGR6XTTElRBZW_oDrpUA</td>\n",
       "      <td>4</td>\n",
       "      <td>Decor  functional \\nStaff friendly and are rea...</td>\n",
       "      <td>review</td>\n",
       "      <td>N3L6SDymSRkYQtTiSDmXSg</td>\n",
       "      <td>1</td>\n",
       "      <td>1</td>\n",
       "      <td>0</td>\n",
       "    </tr>\n",
       "    <tr>\n",
       "      <th>40</th>\n",
       "      <td>umdxfhSlk67yGEi8-S-bEg</td>\n",
       "      <td>2011-11-09</td>\n",
       "      <td>2sG6LKzRz91l10stVHl8uQ</td>\n",
       "      <td>4</td>\n",
       "      <td>This Place just opened up next to the salon I ...</td>\n",
       "      <td>review</td>\n",
       "      <td>F0dO68TECqEJBhBJ4P0qVA</td>\n",
       "      <td>0</td>\n",
       "      <td>1</td>\n",
       "      <td>0</td>\n",
       "    </tr>\n",
       "    <tr>\n",
       "      <th>41</th>\n",
       "      <td>qsThMZ3lXWYLN4t08ScsNA</td>\n",
       "      <td>2009-03-13</td>\n",
       "      <td>fuY6Bf4EtW3UwrdLQJa9_Q</td>\n",
       "      <td>4</td>\n",
       "      <td>I really really like Frances.  I love most of ...</td>\n",
       "      <td>review</td>\n",
       "      <td>W_QXYA7A0IhMrvbckz7eVg</td>\n",
       "      <td>2</td>\n",
       "      <td>2</td>\n",
       "      <td>1</td>\n",
       "    </tr>\n",
       "    <tr>\n",
       "      <th>42</th>\n",
       "      <td>puy0PzIcCgR3KWJI7llBFQ</td>\n",
       "      <td>2012-06-30</td>\n",
       "      <td>UTWI0z7nV5zNJLWnOz9Z5A</td>\n",
       "      <td>4</td>\n",
       "      <td>Solid food, great device, and casual environme...</td>\n",
       "      <td>review</td>\n",
       "      <td>PiDqfET_ZrDKJSLKe03O9A</td>\n",
       "      <td>0</td>\n",
       "      <td>0</td>\n",
       "      <td>0</td>\n",
       "    </tr>\n",
       "    <tr>\n",
       "      <th>43</th>\n",
       "      <td>e0vubCKi8KD8zC2C6FdbuQ</td>\n",
       "      <td>2012-04-12</td>\n",
       "      <td>7uzj6rJ71toRmdsXyo2suA</td>\n",
       "      <td>4</td>\n",
       "      <td>my son really enjoys islands, great food, casu...</td>\n",
       "      <td>review</td>\n",
       "      <td>wv5-4IPtpVA8wdqXu-Onpw</td>\n",
       "      <td>0</td>\n",
       "      <td>1</td>\n",
       "      <td>0</td>\n",
       "    </tr>\n",
       "    <tr>\n",
       "      <th>44</th>\n",
       "      <td>faSdsW2s_SaVN0KTy-R2MQ</td>\n",
       "      <td>2009-06-13</td>\n",
       "      <td>HXU9dbOSlByXW-dB8LmJgA</td>\n",
       "      <td>4</td>\n",
       "      <td>I was seated at the bar. A very nice young man...</td>\n",
       "      <td>review</td>\n",
       "      <td>7cR92zkDv4W3kqzii6axvg</td>\n",
       "      <td>1</td>\n",
       "      <td>1</td>\n",
       "      <td>1</td>\n",
       "    </tr>\n",
       "    <tr>\n",
       "      <th>45</th>\n",
       "      <td>qB-qsaSnhbHCt18_AN4Quw</td>\n",
       "      <td>2011-12-21</td>\n",
       "      <td>1FvrC35rTJ6BWFvRog7tuA</td>\n",
       "      <td>3</td>\n",
       "      <td>Everything was nice. The ice cream was delicio...</td>\n",
       "      <td>review</td>\n",
       "      <td>66PQJEHC0tCWGMI4V9KT-Q</td>\n",
       "      <td>0</td>\n",
       "      <td>0</td>\n",
       "      <td>0</td>\n",
       "    </tr>\n",
       "    <tr>\n",
       "      <th>46</th>\n",
       "      <td>aRkYtXfmEKYG-eTDf_qUsw</td>\n",
       "      <td>2009-04-04</td>\n",
       "      <td>Ckk1Cne1GHwzmJfo7M4r2w</td>\n",
       "      <td>5</td>\n",
       "      <td>(Un)fortunately for me, lux is close to my hou...</td>\n",
       "      <td>review</td>\n",
       "      <td>IUWjTmXc3wLVaMHz33inaA</td>\n",
       "      <td>2</td>\n",
       "      <td>1</td>\n",
       "      <td>1</td>\n",
       "    </tr>\n",
       "    <tr>\n",
       "      <th>47</th>\n",
       "      <td>JuBygU4XDjqSeW9okyvbsQ</td>\n",
       "      <td>2010-09-25</td>\n",
       "      <td>bu9S6tFKuTrMcNxQaQYMQA</td>\n",
       "      <td>3</td>\n",
       "      <td>After watching her win on Cupcake Wars I was d...</td>\n",
       "      <td>review</td>\n",
       "      <td>1MyXsAhZK35A6EAr4reLCA</td>\n",
       "      <td>0</td>\n",
       "      <td>1</td>\n",
       "      <td>1</td>\n",
       "    </tr>\n",
       "    <tr>\n",
       "      <th>48</th>\n",
       "      <td>jRfdz5voj40P6WS9L54caw</td>\n",
       "      <td>2012-01-03</td>\n",
       "      <td>V75NCU3EhqTDwPj5In94DQ</td>\n",
       "      <td>4</td>\n",
       "      <td>Good for an easy and leisurely business lunch ...</td>\n",
       "      <td>review</td>\n",
       "      <td>r-t7IiTSD0QZdt8lOUCqeQ</td>\n",
       "      <td>0</td>\n",
       "      <td>1</td>\n",
       "      <td>0</td>\n",
       "    </tr>\n",
       "    <tr>\n",
       "      <th>49</th>\n",
       "      <td>7SO_rX1F6rQEl-5s3wZxgQ</td>\n",
       "      <td>2011-10-03</td>\n",
       "      <td>GxaYFCprt-wyqO--vB4PHQ</td>\n",
       "      <td>4</td>\n",
       "      <td>After my last review, somewhat scathing regard...</td>\n",
       "      <td>review</td>\n",
       "      <td>J3I2NClEbD1Xr8lOdjxlqQ</td>\n",
       "      <td>1</td>\n",
       "      <td>2</td>\n",
       "      <td>1</td>\n",
       "    </tr>\n",
       "  </tbody>\n",
       "</table>\n",
       "</div>"
      ],
      "text/plain": [
       "               business_id        date               review_id  stars  \\\n",
       "0   9yKzy9PApeiPPOUJEtnvkg  2011-01-26  fWKvX83p0-ka4JS3dc6E5A      5   \n",
       "1   ZRJwVLyzEJq1VAihDhYiow  2011-07-27  IjZ33sJrzXqU-0X6U8NwyA      5   \n",
       "2   6oRAC4uyJCsJl1X0WZpVSA  2012-06-14  IESLBzqUCLdSzSqm0eCSxQ      4   \n",
       "3   _1QQZuf4zZOyFCvXc0o6Vg  2010-05-27  G-WvGaISbqqaMHlNnByodA      5   \n",
       "4   6ozycU1RpktNG2-1BroVtw  2012-01-05  1uJFq2r5QfJG_6ExMRCaGw      5   \n",
       "5   -yxfBYGB6SEqszmxJxd97A  2007-12-13  m2CKSsepBCoRYWxiRUsxAg      4   \n",
       "6   zp713qNhx8d9KCJJnrw1xA  2010-02-12  riFQ3vxNpP4rWLk_CSri2A      5   \n",
       "7   hW0Ne_HTHEAgGF1rAdmR-g  2012-07-12  JL7GXJ9u4YMx7Rzs05NfiQ      4   \n",
       "8   wNUea3IXZWD63bbOQaOH-g  2012-08-17  XtnfnYmnJYi71yIuGsXIUA      4   \n",
       "9   nMHhuYan8e3cONo3PornJA  2010-08-11  jJAIXA46pU1swYyRCdfXtQ      5   \n",
       "10  AsSCv0q_BWqIe3mX2JqsOQ  2010-06-16  E11jzpKz9Kw5K7fuARWfRw      5   \n",
       "11  e9nN4XxjdHj4qtKCOPq_vg  2011-10-21  3rPt0LxF7rgmEUrznoH22w      5   \n",
       "12  h53YuCiIDfEFSJCQpk8v1g  2010-01-11  cGnKNX3I9rthE0-TH24-qA      5   \n",
       "13  WGNIYMeXPyoWav1APUq7jA  2011-12-23  FvEEw1_OsrYdvwLV5Hrliw      4   \n",
       "14  yc5AH9H71xJidA_J2mChLA  2010-05-20  pfUwBKYYmUXeiwrhDluQcw      4   \n",
       "15  Vb9FPCEL6Ly24PNxLBaAFw  2011-03-20  HvqmdqWcerVWO3Gs6zbrOw      2   \n",
       "16  supigcPNO9IKo6olaTNV-g  2008-10-12  HXP_0Ul-FCmA4f-k9CqvaQ      3   \n",
       "17  O510Re68mOy9dU490JTKCg  2010-05-03  j4SIzrIy0WrmW4yr4--Khg      5   \n",
       "18  b5cEoKR8iQliq-yT2_O0LQ  2009-03-06  v0cTd3PNpYCkTyGKSpOfGA      3   \n",
       "19  4JzzbSbK9wmlOBJZWYfuCg  2011-11-17  a0lCu-j2Sk_kHQsZi_eNgw      4   \n",
       "20  8FNO4D3eozpIjj0k3q5Zbg  2008-10-08  MuqugTuR5DdIPcZ2IVP3aQ      3   \n",
       "21  tdcjXyFLMKAsvRhURNOkCg  2011-06-28  LmuKVFh03Uz318VKnUWrxA      5   \n",
       "22  eFA9dqXT5EA_TrMgbo03QQ  2011-07-13  CQYc8hgKxV4enApDkx0IhA      5   \n",
       "23  IJ0o6b8bJFAbG6MjGfBebQ  2010-09-05  Dx9sfFU6Zn0GYOckijom-g      1   \n",
       "24  JhupPnWfNlMJivnWB5druA  2011-05-22  cFtQnKzn2VDpBedy_TxlvA      5   \n",
       "25  wzP2yNpV5p04nh0injjymA  2010-05-26  ChBeixVZerfFkeO0McdlbA      4   \n",
       "26  qjmCVYkwP-HDa35jwYucbQ  2013-01-03  kZ4TzrVX6qeF0OvrVTGVEw      5   \n",
       "27  wct7rZKyZqZftzmAU-vhWQ  2008-03-21  B5h25WK28rJjx4KHm4gr7g      4   \n",
       "28  vz2zQQSjy-NnnKLZzjjoxA  2011-03-30  Y_ERKao0J5WsRiCtlKSNSA      4   \n",
       "29  i213sY5rhkfCO8cD-FPr1A  2012-07-12  hre97jjSwon4bn1muHKOJg      4   \n",
       "30  V1nEpIRmEa1768oj_tuxeQ  2011-05-09  dtpJXC5p_sdWDLSobluJ3Q      5   \n",
       "31  vvA3fbps4F9nGlAEYKk_sA  2012-05-04  S9OVpXat8k5YwWCn6FAgXg      1   \n",
       "32  rxQ2PIjhAx6dgAqUalf99Q  2012-09-09  -v-shjbxoj7hpU62yn6vag      5   \n",
       "33  qjmCVYkwP-HDa35jwYucbQ  2010-03-28  2VTwjhOX3UUvgOGbxe4xfA      4   \n",
       "34  3oLy0rlzRI_xiqfQHqC4_g  2011-03-27  Bk7F8IyBuOHVp6w3BAKVow      3   \n",
       "35  o1GIYYZJjM6nM03fQs_uEQ  2011-11-30  ApKbwpYJdnhhgP4NbjQw2Q      1   \n",
       "36  Pr9rQKypHgC_J1AfufxzIw  2008-12-28  vUuFuf4LYxfqbZH3lYxJfw      4   \n",
       "37  AGar9KVq_W7YcF76avbDTw  2012-10-16  gNm48xplqt42p-NvCkzUBg      4   \n",
       "38  -kVXDEqGHOWKxQ3EhvFgVA  2011-01-02  5V9lfjjlY7tkXgkcDUWYyg      4   \n",
       "39  qyNtVViurIcChc35mfYIEw  2008-07-09  1fRGR6XTTElRBZW_oDrpUA      4   \n",
       "40  umdxfhSlk67yGEi8-S-bEg  2011-11-09  2sG6LKzRz91l10stVHl8uQ      4   \n",
       "41  qsThMZ3lXWYLN4t08ScsNA  2009-03-13  fuY6Bf4EtW3UwrdLQJa9_Q      4   \n",
       "42  puy0PzIcCgR3KWJI7llBFQ  2012-06-30  UTWI0z7nV5zNJLWnOz9Z5A      4   \n",
       "43  e0vubCKi8KD8zC2C6FdbuQ  2012-04-12  7uzj6rJ71toRmdsXyo2suA      4   \n",
       "44  faSdsW2s_SaVN0KTy-R2MQ  2009-06-13  HXU9dbOSlByXW-dB8LmJgA      4   \n",
       "45  qB-qsaSnhbHCt18_AN4Quw  2011-12-21  1FvrC35rTJ6BWFvRog7tuA      3   \n",
       "46  aRkYtXfmEKYG-eTDf_qUsw  2009-04-04  Ckk1Cne1GHwzmJfo7M4r2w      5   \n",
       "47  JuBygU4XDjqSeW9okyvbsQ  2010-09-25  bu9S6tFKuTrMcNxQaQYMQA      3   \n",
       "48  jRfdz5voj40P6WS9L54caw  2012-01-03  V75NCU3EhqTDwPj5In94DQ      4   \n",
       "49  7SO_rX1F6rQEl-5s3wZxgQ  2011-10-03  GxaYFCprt-wyqO--vB4PHQ      4   \n",
       "\n",
       "                                                 text    type  \\\n",
       "0   My wife took me here on my birthday for breakf...  review   \n",
       "1   I have no idea why some people give bad review...  review   \n",
       "2   love the gyro plate. Rice is so good and I als...  review   \n",
       "3   Rosie, Dakota, and I LOVE Chaparral Dog Park!!...  review   \n",
       "4   General Manager Scott Petello is a good egg!!!...  review   \n",
       "5   Quiessence is, simply put, beautiful.  Full wi...  review   \n",
       "6   Drop what you're doing and drive here. After I...  review   \n",
       "7   Luckily, I didn't have to travel far to make m...  review   \n",
       "8   Definitely come for Happy hour! Prices are ama...  review   \n",
       "9   Nobuo shows his unique talents with everything...  review   \n",
       "10  The oldish man who owns the store is as sweet ...  review   \n",
       "11  Wonderful Vietnamese sandwich shoppe. Their ba...  review   \n",
       "12  They have a limited time thing going on right ...  review   \n",
       "13  Good tattoo shop. Clean space, multiple artist...  review   \n",
       "14  I'm 2 weeks new to Phoenix. I looked up Irish ...  review   \n",
       "15  Was it worth the 21$ for a salad and small piz...  review   \n",
       "16  We went here on a Saturday afternoon and this ...  review   \n",
       "17  okay this is the best place EVER! i grew up sh...  review   \n",
       "18  I met a friend for lunch yesterday. \\n\\nLoved ...  review   \n",
       "19  They've gotten better and better for me in the...  review   \n",
       "20  DVAP....\\n\\nYou have to go at least once in yo...  review   \n",
       "21  This place shouldn't even be reviewed - becaus...  review   \n",
       "22  first time my friend and I went there... it wa...  review   \n",
       "23  U can go there n check the car out. If u wanna...  review   \n",
       "24  I love this place! I have been coming here for...  review   \n",
       "25  This place is great.  A nice little ole' fashi...  review   \n",
       "26  I love love LOVE this place. My boss (who is i...  review   \n",
       "27  Not that my review will mean much given the mo...  review   \n",
       "28  Came here for breakfast yesterday, it had been...  review   \n",
       "29  Always reliably good.  Great beer selection as...  review   \n",
       "30  Disclaimer: Like many of you, I am a sucker fo...  review   \n",
       "31  Disgusting!  Had a Groupon so my daughter and ...  review   \n",
       "32  Never having dealt with a Discount Tire in Pho...  review   \n",
       "33  I went here again when I got back to Phoenix a...  review   \n",
       "34  There's two ways to look at this place. One is...  review   \n",
       "35  I've eaten here many times, but none as bad as...  review   \n",
       "36  They must have renovated this place in the las...  review   \n",
       "37  Very clean and well thought out floor plans, n...  review   \n",
       "38  This Mexican food is very simple, slightly bla...  review   \n",
       "39  Decor  functional \\nStaff friendly and are rea...  review   \n",
       "40  This Place just opened up next to the salon I ...  review   \n",
       "41  I really really like Frances.  I love most of ...  review   \n",
       "42  Solid food, great device, and casual environme...  review   \n",
       "43  my son really enjoys islands, great food, casu...  review   \n",
       "44  I was seated at the bar. A very nice young man...  review   \n",
       "45  Everything was nice. The ice cream was delicio...  review   \n",
       "46  (Un)fortunately for me, lux is close to my hou...  review   \n",
       "47  After watching her win on Cupcake Wars I was d...  review   \n",
       "48  Good for an easy and leisurely business lunch ...  review   \n",
       "49  After my last review, somewhat scathing regard...  review   \n",
       "\n",
       "                   user_id  cool  useful  funny  \n",
       "0   rLtl8ZkDX5vH5nAx9C3q5Q     2       5      0  \n",
       "1   0a2KyEL0d3Yb1V6aivbIuQ     0       0      0  \n",
       "2   0hT2KtfLiobPvh6cDC8JQg     0       1      0  \n",
       "3   uZetl9T0NcROGOyFfughhg     1       2      0  \n",
       "4   vYmM4KTsC8ZfQBg-j5MWkw     0       0      0  \n",
       "5   sqYN3lNgvPbPCTRsMFu27g     4       3      1  \n",
       "6   wFweIWhv2fREZV_dYkz_1g     7       7      4  \n",
       "7   1ieuYcKS7zeAv_U15AB13A     0       1      0  \n",
       "8   Vh_DlizgGhSqQh4qfZ2h6A     0       0      0  \n",
       "9   sUNkXg8-KFtCMQDV6zRzQg     0       1      0  \n",
       "10  -OMlS6yWkYjVldNhC31wYg     1       3      1  \n",
       "11  C1rHp3dmepNea7XiouwB6Q     1       1      0  \n",
       "12  UPtysDF6cUDUxq2KY-6Dcg     1       2      0  \n",
       "13  Xm8HXE1JHqscXe5BKf0GFQ     1       2      0  \n",
       "14  JOG-4G4e8ae3lx_szHtR8g     1       1      0  \n",
       "15  ylWOj2y7TV2e3yYeWhu2QA     0       2      0  \n",
       "16  SBbftLzfYYKItOMFwOTIJg     3       4      2  \n",
       "17  u1KWcbPMvXFEEYkZZ0Yktg     0       0      0  \n",
       "18  UsULgP4bKA8RMzs8dQzcsA     5       6      4  \n",
       "19  nDBly08j5URmrHQ2JCbyiw     1       1      1  \n",
       "20  C6IOtaaYdLIT5fWd7ZYIuA     2       4      1  \n",
       "21  YN3ZLOdg8kpnfbVcIhuEZA     1       1      2  \n",
       "22  6lg55RIP23VhjYEBXJ8Njw     0       0      0  \n",
       "23  zRlQEDYd_HKp0VS3hnAffA     0       1      1  \n",
       "24  13xj6FSvYO0rZVRv5XZp4w     0       1      0  \n",
       "25  rLtl8ZkDX5vH5nAx9C3q5Q     0       0      0  \n",
       "26  fpItLlgimq0nRltWOkuJJw     0       0      0  \n",
       "27  RRTraCQw77EU4yZh0BBTag     2       4      1  \n",
       "28  EP3cGJvYiuOwumerwADplg     1       1      1  \n",
       "29  kpbhy1zPewGDmdNfNqQp-g     0       1      0  \n",
       "30  bCKjygWJZOQHCOzootbvow     0       2      0  \n",
       "31  8AMn6644NmBf96xGO3w6OA     0       1      0  \n",
       "32  HLbhD2OyiMCUDRR4c1iXaw     0       0      0  \n",
       "33  3iuZFgxUFKLxOplkDrFmyg     0       0      0  \n",
       "34  1guJDgUfTiDdbgKqBhsZFQ     1       3      1  \n",
       "35  iwUN95LIaEr75TZE_JC6bg     0       4      3  \n",
       "36  iFa0SLpNeLbx6aux65mNbQ     0       1      0  \n",
       "37  370JyOQfFcPSB9_jk641gA     0       0      0  \n",
       "38  Ja8SAyDdf1aY-E7vVixJiw     0       0      0  \n",
       "39  N3L6SDymSRkYQtTiSDmXSg     1       1      0  \n",
       "40  F0dO68TECqEJBhBJ4P0qVA     0       1      0  \n",
       "41  W_QXYA7A0IhMrvbckz7eVg     2       2      1  \n",
       "42  PiDqfET_ZrDKJSLKe03O9A     0       0      0  \n",
       "43  wv5-4IPtpVA8wdqXu-Onpw     0       1      0  \n",
       "44  7cR92zkDv4W3kqzii6axvg     1       1      1  \n",
       "45  66PQJEHC0tCWGMI4V9KT-Q     0       0      0  \n",
       "46  IUWjTmXc3wLVaMHz33inaA     2       1      1  \n",
       "47  1MyXsAhZK35A6EAr4reLCA     0       1      1  \n",
       "48  r-t7IiTSD0QZdt8lOUCqeQ     0       1      0  \n",
       "49  J3I2NClEbD1Xr8lOdjxlqQ     1       2      1  "
      ]
     },
     "execution_count": 54,
     "metadata": {},
     "output_type": "execute_result"
    }
   ],
   "source": [
    "yelp.head(50)"
   ]
  },
  {
   "cell_type": "code",
   "execution_count": 55,
   "metadata": {
    "collapsed": false
   },
   "outputs": [
    {
     "data": {
      "text/html": [
       "<div>\n",
       "<table border=\"1\" class=\"dataframe\">\n",
       "  <thead>\n",
       "    <tr style=\"text-align: right;\">\n",
       "      <th></th>\n",
       "      <th>stars</th>\n",
       "      <th>cool</th>\n",
       "      <th>useful</th>\n",
       "      <th>funny</th>\n",
       "    </tr>\n",
       "  </thead>\n",
       "  <tbody>\n",
       "    <tr>\n",
       "      <th>count</th>\n",
       "      <td>10000.000000</td>\n",
       "      <td>10000.000000</td>\n",
       "      <td>10000.000000</td>\n",
       "      <td>10000.000000</td>\n",
       "    </tr>\n",
       "    <tr>\n",
       "      <th>mean</th>\n",
       "      <td>3.777500</td>\n",
       "      <td>0.876800</td>\n",
       "      <td>1.409300</td>\n",
       "      <td>0.701300</td>\n",
       "    </tr>\n",
       "    <tr>\n",
       "      <th>std</th>\n",
       "      <td>1.214636</td>\n",
       "      <td>2.067861</td>\n",
       "      <td>2.336647</td>\n",
       "      <td>1.907942</td>\n",
       "    </tr>\n",
       "    <tr>\n",
       "      <th>min</th>\n",
       "      <td>1.000000</td>\n",
       "      <td>0.000000</td>\n",
       "      <td>0.000000</td>\n",
       "      <td>0.000000</td>\n",
       "    </tr>\n",
       "    <tr>\n",
       "      <th>25%</th>\n",
       "      <td>3.000000</td>\n",
       "      <td>0.000000</td>\n",
       "      <td>0.000000</td>\n",
       "      <td>0.000000</td>\n",
       "    </tr>\n",
       "    <tr>\n",
       "      <th>50%</th>\n",
       "      <td>4.000000</td>\n",
       "      <td>0.000000</td>\n",
       "      <td>1.000000</td>\n",
       "      <td>0.000000</td>\n",
       "    </tr>\n",
       "    <tr>\n",
       "      <th>75%</th>\n",
       "      <td>5.000000</td>\n",
       "      <td>1.000000</td>\n",
       "      <td>2.000000</td>\n",
       "      <td>1.000000</td>\n",
       "    </tr>\n",
       "    <tr>\n",
       "      <th>max</th>\n",
       "      <td>5.000000</td>\n",
       "      <td>77.000000</td>\n",
       "      <td>76.000000</td>\n",
       "      <td>57.000000</td>\n",
       "    </tr>\n",
       "  </tbody>\n",
       "</table>\n",
       "</div>"
      ],
      "text/plain": [
       "              stars          cool        useful         funny\n",
       "count  10000.000000  10000.000000  10000.000000  10000.000000\n",
       "mean       3.777500      0.876800      1.409300      0.701300\n",
       "std        1.214636      2.067861      2.336647      1.907942\n",
       "min        1.000000      0.000000      0.000000      0.000000\n",
       "25%        3.000000      0.000000      0.000000      0.000000\n",
       "50%        4.000000      0.000000      1.000000      0.000000\n",
       "75%        5.000000      1.000000      2.000000      1.000000\n",
       "max        5.000000     77.000000     76.000000     57.000000"
      ]
     },
     "execution_count": 55,
     "metadata": {},
     "output_type": "execute_result"
    }
   ],
   "source": [
    "yelp.describe()"
   ]
  },
  {
   "cell_type": "code",
   "execution_count": 56,
   "metadata": {
    "collapsed": false
   },
   "outputs": [],
   "source": [
    "import matplotlib.pyplot as plt\n",
    "import seaborn as sns\n",
    "%matplotlib inline "
   ]
  },
  {
   "cell_type": "code",
   "execution_count": 63,
   "metadata": {
    "collapsed": false
   },
   "outputs": [
    {
     "data": {
      "text/plain": [
       "<matplotlib.axes._subplots.AxesSubplot at 0x29ddea210>"
      ]
     },
     "execution_count": 63,
     "metadata": {},
     "output_type": "execute_result"
    },
    {
     "data": {
      "image/png": "[encoded data removed]",
      "text/plain": [
       "<matplotlib.figure.Figure at 0x29da7ea90>"
      ]
     },
     "metadata": {},
     "output_type": "display_data"
    }
   ],
   "source": [
    "sns.distplot(yelp.stars,  rug=True)"
   ]
  },
  {
   "cell_type": "code",
   "execution_count": 58,
   "metadata": {
    "collapsed": false
   },
   "outputs": [
    {
     "data": {
      "text/plain": [
       "<matplotlib.axes._subplots.AxesSubplot at 0x26fa82c90>"
      ]
     },
     "execution_count": 58,
     "metadata": {},
     "output_type": "execute_result"
    },
    {
     "data": {
      "image/png": "[encoded data removed]",
      "text/plain": [
       "<matplotlib.figure.Figure at 0x28513dfd0>"
      ]
     },
     "metadata": {},
     "output_type": "display_data"
    }
   ],
   "source": [
    "sns.distplot(yelp.useful,  rug=True)"
   ]
  },
  {
   "cell_type": "code",
   "execution_count": 64,
   "metadata": {
    "collapsed": false
   },
   "outputs": [
    {
     "data": {
      "text/plain": [
       "<matplotlib.axes._subplots.AxesSubplot at 0x29df7d5d0>"
      ]
     },
     "execution_count": 64,
     "metadata": {},
     "output_type": "execute_result"
    },
    {
     "data": {
      "image/png": "[encoded data removed]",
      "text/plain": [
       "<matplotlib.figure.Figure at 0x29bfc4390>"
      ]
     },
     "metadata": {},
     "output_type": "display_data"
    }
   ],
   "source": [
    "yelp.plot(kind=\"hist\")"
   ]
  },
  {
   "cell_type": "code",
   "execution_count": 65,
   "metadata": {
    "collapsed": false
   },
   "outputs": [
    {
     "data": {
      "text/plain": [
       "array([[<matplotlib.axes._subplots.AxesSubplot object at 0x2b5cdee50>,\n",
       "        <matplotlib.axes._subplots.AxesSubplot object at 0x2b5f44c50>],\n",
       "       [<matplotlib.axes._subplots.AxesSubplot object at 0x2b5b99fd0>,\n",
       "        <matplotlib.axes._subplots.AxesSubplot object at 0x2b5c5d190>]], dtype=object)"
      ]
     },
     "execution_count": 65,
     "metadata": {},
     "output_type": "execute_result"
    },
    {
     "data": {
      "image/png": "[encoded data removed]",
      "text/plain": [
       "<matplotlib.figure.Figure at 0x2b5d28390>"
      ]
     },
     "metadata": {},
     "output_type": "display_data"
    }
   ],
   "source": [
    "pd.scatter_matrix(yelp[['stars', 'cool']])"
   ]
  },
  {
   "cell_type": "code",
   "execution_count": 67,
   "metadata": {
    "collapsed": false
   },
   "outputs": [
    {
     "name": "stderr",
     "output_type": "stream",
     "text": [
      "//anaconda/lib/python2.7/site-packages/matplotlib/__init__.py:892: UserWarning: axes.color_cycle is deprecated and replaced with axes.prop_cycle; please use the latter.\n",
      "  warnings.warn(self.msg_depr % (key, alt_key))\n"
     ]
    },
    {
     "data": {
      "text/plain": [
       "<seaborn.axisgrid.PairGrid at 0x2b3d30c90>"
      ]
     },
     "execution_count": 67,
     "metadata": {},
     "output_type": "execute_result"
    },
    {
     "data": {
      "image/png": "[encoded data removed]",
      "text/plain": [
       "<matplotlib.figure.Figure at 0x2b3d30750>"
      ]
     },
     "metadata": {},
     "output_type": "display_data"
    }
   ],
   "source": [
    "sns.pairplot(yelp[[\"stars\",\"cool\"]])"
   ]
  },
  {
   "cell_type": "code",
   "execution_count": 68,
   "metadata": {
    "collapsed": false
   },
   "outputs": [
    {
     "ename": "AttributeError",
     "evalue": "'module' object has no attribute 'scatter'",
     "output_type": "error",
     "traceback": [
      "\u001b[0;31m---------------------------------------------------------------------------\u001b[0m",
      "\u001b[0;31mAttributeError\u001b[0m                            Traceback (most recent call last)",
      "\u001b[0;32m<ipython-input-68-5e98207356d7>\u001b[0m in \u001b[0;36m<module>\u001b[0;34m()\u001b[0m\n\u001b[0;32m----> 1\u001b[0;31m \u001b[0mpd\u001b[0m\u001b[0;34m.\u001b[0m\u001b[0mscatter\u001b[0m\u001b[0;34m(\u001b[0m\u001b[0myelp\u001b[0m\u001b[0;34m[\u001b[0m\u001b[0;34m[\u001b[0m\u001b[0;34m'stars'\u001b[0m\u001b[0;34m,\u001b[0m \u001b[0;34m'cool'\u001b[0m\u001b[0;34m]\u001b[0m\u001b[0;34m]\u001b[0m\u001b[0;34m)\u001b[0m\u001b[0;34m\u001b[0m\u001b[0m\n\u001b[0m",
      "\u001b[0;31mAttributeError\u001b[0m: 'module' object has no attribute 'scatter'"
     ]
    }
   ],
   "source": [
    "pd.scatter(yelp[['stars', 'cool']])"
   ]
  },
  {
   "cell_type": "code",
   "execution_count": 71,
   "metadata": {
    "collapsed": false
   },
   "outputs": [
    {
     "data": {
      "text/plain": [
       "<matplotlib.collections.PathCollection at 0x2b591b0d0>"
      ]
     },
     "execution_count": 71,
     "metadata": {},
     "output_type": "execute_result"
    },
    {
     "data": {
      "image/png": "[encoded data removed]",
      "text/plain": [
       "<matplotlib.figure.Figure at 0x2b576c5d0>"
      ]
     },
     "metadata": {},
     "output_type": "display_data"
    }
   ],
   "source": [
    "plt.scatter(x=yelp.stars, y=yelp.useful)"
   ]
  },
  {
   "cell_type": "code",
   "execution_count": 73,
   "metadata": {
    "collapsed": false
   },
   "outputs": [
    {
     "ename": "AttributeError",
     "evalue": "'float' object has no attribute 'plot'",
     "output_type": "error",
     "traceback": [
      "\u001b[0;31m---------------------------------------------------------------------------\u001b[0m",
      "\u001b[0;31mAttributeError\u001b[0m                            Traceback (most recent call last)",
      "\u001b[0;32m<ipython-input-73-28b11f2bcd1f>\u001b[0m in \u001b[0;36m<module>\u001b[0;34m()\u001b[0m\n\u001b[0;32m----> 1\u001b[0;31m \u001b[0myelp\u001b[0m\u001b[0;34m.\u001b[0m\u001b[0mstars\u001b[0m\u001b[0;34m.\u001b[0m\u001b[0mmean\u001b[0m\u001b[0;34m(\u001b[0m\u001b[0;34m)\u001b[0m\u001b[0;34m.\u001b[0m\u001b[0mplot\u001b[0m\u001b[0;34m(\u001b[0m\u001b[0mkind\u001b[0m\u001b[0;34m=\u001b[0m\u001b[0;34m'bar'\u001b[0m\u001b[0;34m)\u001b[0m\u001b[0;34m\u001b[0m\u001b[0m\n\u001b[0m",
      "\u001b[0;31mAttributeError\u001b[0m: 'float' object has no attribute 'plot'"
     ]
    }
   ],
   "source": [
    "yelp.stars.mean().plot(kind='bar')"
   ]
  },
  {
   "cell_type": "code",
   "execution_count": 74,
   "metadata": {
    "collapsed": false
   },
   "outputs": [
    {
     "data": {
      "text/plain": [
       "<matplotlib.axes._subplots.AxesSubplot at 0x2b578a6d0>"
      ]
     },
     "execution_count": 74,
     "metadata": {},
     "output_type": "execute_result"
    },
    {
     "data": {
      "image/png": "[encoded data removed]",
      "text/plain": [
       "<matplotlib.figure.Figure at 0x2b597fa10>"
      ]
     },
     "metadata": {},
     "output_type": "display_data"
    }
   ],
   "source": [
    "sns.boxplot(x=\"stars\",y=\"useful\",data=yelp)"
   ]
  },
  {
   "cell_type": "code",
   "execution_count": 75,
   "metadata": {
    "collapsed": false
   },
   "outputs": [
    {
     "data": {
      "text/plain": [
       "<matplotlib.axes._subplots.AxesSubplot at 0x2b71096d0>"
      ]
     },
     "execution_count": 75,
     "metadata": {},
     "output_type": "execute_result"
    },
    {
     "data": {
      "image/png": "[encoded data removed]",
      "text/plain": [
       "<matplotlib.figure.Figure at 0x2b6ef6d90>"
      ]
     },
     "metadata": {},
     "output_type": "display_data"
    }
   ],
   "source": [
    "sns.boxplot(x=\"stars\",y=\"cool\",data=yelp)"
   ]
  },
  {
   "cell_type": "code",
   "execution_count": 76,
   "metadata": {
    "collapsed": false
   },
   "outputs": [
    {
     "data": {
      "text/plain": [
       "<matplotlib.axes._subplots.AxesSubplot at 0x2b591be90>"
      ]
     },
     "execution_count": 76,
     "metadata": {},
     "output_type": "execute_result"
    },
    {
     "data": {
      "image/png": "[encoded data removed]",
      "text/plain": [
       "<matplotlib.figure.Figure at 0x2b8ac2990>"
      ]
     },
     "metadata": {},
     "output_type": "display_data"
    }
   ],
   "source": [
    "yelp[[\"stars\",\"cool\",\"useful\"]].plot(kind=\"box\")"
   ]
  },
  {
   "cell_type": "code",
   "execution_count": 78,
   "metadata": {
    "collapsed": false
   },
   "outputs": [
    {
     "data": {
      "text/plain": [
       "<matplotlib.axes._subplots.AxesSubplot at 0x2b8e86710>"
      ]
     },
     "execution_count": 78,
     "metadata": {},
     "output_type": "execute_result"
    },
    {
     "data": {
      "image/png": "[encoded data removed]",
      "text/plain": [
       "<matplotlib.figure.Figure at 0x2b722f450>"
      ]
     },
     "metadata": {},
     "output_type": "display_data"
    }
   ],
   "source": [
    "yelp.stars.plot(kind='bar',stacked=True)"
   ]
  },
  {
   "cell_type": "code",
   "execution_count": null,
   "metadata": {
    "collapsed": true
   },
   "outputs": [],
   "source": []
  }
 ],
 "metadata": {
  "kernelspec": {
   "display_name": "Python 2",
   "language": "python",
   "name": "python2"
  },
  "language_info": {
   "codemirror_mode": {
    "name": "ipython",
    "version": 2
   },
   "file_extension": ".py",
   "mimetype": "text/x-python",
   "name": "python",
   "nbconvert_exporter": "python",
   "pygments_lexer": "ipython2",
   "version": "2.7.11"
  }
 },
 "nbformat": 4,
 "nbformat_minor": 0
}
